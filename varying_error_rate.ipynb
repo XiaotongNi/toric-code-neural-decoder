{
 "cells": [
  {
   "cell_type": "code",
   "execution_count": 1,
   "metadata": {},
   "outputs": [],
   "source": [
    "import tf_rn_log as t\n",
    "sess = t.tf.Session()\n",
    "m = t.ModelVariableRate(sess, 16, p=0.08)"
   ]
  },
  {
   "cell_type": "code",
   "execution_count": 6,
   "metadata": {},
   "outputs": [
    {
     "data": {
      "text/plain": [
       "{<tf.Variable 'beta1_power:0' shape=() dtype=float32_ref>,\n",
       " <tf.Variable 'beta1_power_1:0' shape=() dtype=float32_ref>,\n",
       " <tf.Variable 'beta2_power:0' shape=() dtype=float32_ref>,\n",
       " <tf.Variable 'beta2_power_1:0' shape=() dtype=float32_ref>,\n",
       " <tf.Variable 'error_rate/Adam:0' shape=(1, 16, 16, 2) dtype=float32_ref>,\n",
       " <tf.Variable 'error_rate/Adam_1:0' shape=(1, 16, 16, 2) dtype=float32_ref>,\n",
       " <tf.Variable 'error_rate/Adam_2:0' shape=(1, 16, 16, 2) dtype=float32_ref>,\n",
       " <tf.Variable 'error_rate/Adam_3:0' shape=(1, 16, 16, 2) dtype=float32_ref>,\n",
       " <tf.Variable 'rn_block1/batch_normalization/beta/Adam:0' shape=(200,) dtype=float32_ref>,\n",
       " <tf.Variable 'rn_block1/batch_normalization/beta/Adam_1:0' shape=(200,) dtype=float32_ref>,\n",
       " <tf.Variable 'rn_block1/batch_normalization/gamma/Adam:0' shape=(200,) dtype=float32_ref>,\n",
       " <tf.Variable 'rn_block1/batch_normalization/gamma/Adam_1:0' shape=(200,) dtype=float32_ref>,\n",
       " <tf.Variable 'rn_block1/batch_normalization/moving_mean:0' shape=(200,) dtype=float32_ref>,\n",
       " <tf.Variable 'rn_block1/batch_normalization/moving_variance:0' shape=(200,) dtype=float32_ref>,\n",
       " <tf.Variable 'rn_block1/batch_normalization_1/beta/Adam:0' shape=(200,) dtype=float32_ref>,\n",
       " <tf.Variable 'rn_block1/batch_normalization_1/beta/Adam_1:0' shape=(200,) dtype=float32_ref>,\n",
       " <tf.Variable 'rn_block1/batch_normalization_1/gamma/Adam:0' shape=(200,) dtype=float32_ref>,\n",
       " <tf.Variable 'rn_block1/batch_normalization_1/gamma/Adam_1:0' shape=(200,) dtype=float32_ref>,\n",
       " <tf.Variable 'rn_block1/batch_normalization_1/moving_mean:0' shape=(200,) dtype=float32_ref>,\n",
       " <tf.Variable 'rn_block1/batch_normalization_1/moving_variance:0' shape=(200,) dtype=float32_ref>,\n",
       " <tf.Variable 'rn_block1/batch_normalization_2/beta/Adam:0' shape=(200,) dtype=float32_ref>,\n",
       " <tf.Variable 'rn_block1/batch_normalization_2/beta/Adam_1:0' shape=(200,) dtype=float32_ref>,\n",
       " <tf.Variable 'rn_block1/batch_normalization_2/gamma/Adam:0' shape=(200,) dtype=float32_ref>,\n",
       " <tf.Variable 'rn_block1/batch_normalization_2/gamma/Adam_1:0' shape=(200,) dtype=float32_ref>,\n",
       " <tf.Variable 'rn_block1/batch_normalization_2/moving_mean:0' shape=(200,) dtype=float32_ref>,\n",
       " <tf.Variable 'rn_block1/batch_normalization_2/moving_variance:0' shape=(200,) dtype=float32_ref>,\n",
       " <tf.Variable 'rn_block1/conv2d/bias/Adam:0' shape=(200,) dtype=float32_ref>,\n",
       " <tf.Variable 'rn_block1/conv2d/bias/Adam_1:0' shape=(200,) dtype=float32_ref>,\n",
       " <tf.Variable 'rn_block1/conv2d/kernel/Adam:0' shape=(2, 2, 3, 200) dtype=float32_ref>,\n",
       " <tf.Variable 'rn_block1/conv2d/kernel/Adam_1:0' shape=(2, 2, 3, 200) dtype=float32_ref>,\n",
       " <tf.Variable 'rn_block1/conv2d_1/bias/Adam:0' shape=(200,) dtype=float32_ref>,\n",
       " <tf.Variable 'rn_block1/conv2d_1/bias/Adam_1:0' shape=(200,) dtype=float32_ref>,\n",
       " <tf.Variable 'rn_block1/conv2d_1/kernel/Adam:0' shape=(3, 3, 200, 200) dtype=float32_ref>,\n",
       " <tf.Variable 'rn_block1/conv2d_1/kernel/Adam_1:0' shape=(3, 3, 200, 200) dtype=float32_ref>,\n",
       " <tf.Variable 'rn_block1/conv2d_10/bias/Adam:0' shape=(200,) dtype=float32_ref>,\n",
       " <tf.Variable 'rn_block1/conv2d_10/bias/Adam_1:0' shape=(200,) dtype=float32_ref>,\n",
       " <tf.Variable 'rn_block1/conv2d_10/kernel/Adam:0' shape=(3, 3, 200, 200) dtype=float32_ref>,\n",
       " <tf.Variable 'rn_block1/conv2d_10/kernel/Adam_1:0' shape=(3, 3, 200, 200) dtype=float32_ref>,\n",
       " <tf.Variable 'rn_block1/conv2d_11/bias/Adam:0' shape=(200,) dtype=float32_ref>,\n",
       " <tf.Variable 'rn_block1/conv2d_11/bias/Adam_1:0' shape=(200,) dtype=float32_ref>,\n",
       " <tf.Variable 'rn_block1/conv2d_11/kernel/Adam:0' shape=(1, 1, 200, 200) dtype=float32_ref>,\n",
       " <tf.Variable 'rn_block1/conv2d_11/kernel/Adam_1:0' shape=(1, 1, 200, 200) dtype=float32_ref>,\n",
       " <tf.Variable 'rn_block1/conv2d_12/bias/Adam:0' shape=(2,) dtype=float32_ref>,\n",
       " <tf.Variable 'rn_block1/conv2d_12/bias/Adam_1:0' shape=(2,) dtype=float32_ref>,\n",
       " <tf.Variable 'rn_block1/conv2d_12/kernel/Adam:0' shape=(1, 1, 200, 2) dtype=float32_ref>,\n",
       " <tf.Variable 'rn_block1/conv2d_12/kernel/Adam_1:0' shape=(1, 1, 200, 2) dtype=float32_ref>,\n",
       " <tf.Variable 'rn_block1/conv2d_2/bias/Adam:0' shape=(200,) dtype=float32_ref>,\n",
       " <tf.Variable 'rn_block1/conv2d_2/bias/Adam_1:0' shape=(200,) dtype=float32_ref>,\n",
       " <tf.Variable 'rn_block1/conv2d_2/kernel/Adam:0' shape=(1, 1, 200, 200) dtype=float32_ref>,\n",
       " <tf.Variable 'rn_block1/conv2d_2/kernel/Adam_1:0' shape=(1, 1, 200, 200) dtype=float32_ref>,\n",
       " <tf.Variable 'rn_block1/conv2d_3/bias/Adam:0' shape=(200,) dtype=float32_ref>,\n",
       " <tf.Variable 'rn_block1/conv2d_3/bias/Adam_1:0' shape=(200,) dtype=float32_ref>,\n",
       " <tf.Variable 'rn_block1/conv2d_3/kernel/Adam:0' shape=(1, 1, 200, 200) dtype=float32_ref>,\n",
       " <tf.Variable 'rn_block1/conv2d_3/kernel/Adam_1:0' shape=(1, 1, 200, 200) dtype=float32_ref>,\n",
       " <tf.Variable 'rn_block1/conv2d_4/bias/Adam:0' shape=(200,) dtype=float32_ref>,\n",
       " <tf.Variable 'rn_block1/conv2d_4/bias/Adam_1:0' shape=(200,) dtype=float32_ref>,\n",
       " <tf.Variable 'rn_block1/conv2d_4/kernel/Adam:0' shape=(3, 3, 200, 200) dtype=float32_ref>,\n",
       " <tf.Variable 'rn_block1/conv2d_4/kernel/Adam_1:0' shape=(3, 3, 200, 200) dtype=float32_ref>,\n",
       " <tf.Variable 'rn_block1/conv2d_5/bias/Adam:0' shape=(200,) dtype=float32_ref>,\n",
       " <tf.Variable 'rn_block1/conv2d_5/bias/Adam_1:0' shape=(200,) dtype=float32_ref>,\n",
       " <tf.Variable 'rn_block1/conv2d_5/kernel/Adam:0' shape=(1, 1, 200, 200) dtype=float32_ref>,\n",
       " <tf.Variable 'rn_block1/conv2d_5/kernel/Adam_1:0' shape=(1, 1, 200, 200) dtype=float32_ref>,\n",
       " <tf.Variable 'rn_block1/conv2d_6/bias/Adam:0' shape=(200,) dtype=float32_ref>,\n",
       " <tf.Variable 'rn_block1/conv2d_6/bias/Adam_1:0' shape=(200,) dtype=float32_ref>,\n",
       " <tf.Variable 'rn_block1/conv2d_6/kernel/Adam:0' shape=(1, 1, 200, 200) dtype=float32_ref>,\n",
       " <tf.Variable 'rn_block1/conv2d_6/kernel/Adam_1:0' shape=(1, 1, 200, 200) dtype=float32_ref>,\n",
       " <tf.Variable 'rn_block1/conv2d_7/bias/Adam:0' shape=(200,) dtype=float32_ref>,\n",
       " <tf.Variable 'rn_block1/conv2d_7/bias/Adam_1:0' shape=(200,) dtype=float32_ref>,\n",
       " <tf.Variable 'rn_block1/conv2d_7/kernel/Adam:0' shape=(3, 3, 200, 200) dtype=float32_ref>,\n",
       " <tf.Variable 'rn_block1/conv2d_7/kernel/Adam_1:0' shape=(3, 3, 200, 200) dtype=float32_ref>,\n",
       " <tf.Variable 'rn_block1/conv2d_8/bias/Adam:0' shape=(200,) dtype=float32_ref>,\n",
       " <tf.Variable 'rn_block1/conv2d_8/bias/Adam_1:0' shape=(200,) dtype=float32_ref>,\n",
       " <tf.Variable 'rn_block1/conv2d_8/kernel/Adam:0' shape=(1, 1, 200, 200) dtype=float32_ref>,\n",
       " <tf.Variable 'rn_block1/conv2d_8/kernel/Adam_1:0' shape=(1, 1, 200, 200) dtype=float32_ref>,\n",
       " <tf.Variable 'rn_block1/conv2d_9/bias/Adam:0' shape=(200,) dtype=float32_ref>,\n",
       " <tf.Variable 'rn_block1/conv2d_9/bias/Adam_1:0' shape=(200,) dtype=float32_ref>,\n",
       " <tf.Variable 'rn_block1/conv2d_9/kernel/Adam:0' shape=(1, 1, 200, 200) dtype=float32_ref>,\n",
       " <tf.Variable 'rn_block1/conv2d_9/kernel/Adam_1:0' shape=(1, 1, 200, 200) dtype=float32_ref>,\n",
       " <tf.Variable 'rn_block2/batch_normalization/moving_mean:0' shape=(200,) dtype=float32_ref>,\n",
       " <tf.Variable 'rn_block2/batch_normalization/moving_variance:0' shape=(200,) dtype=float32_ref>,\n",
       " <tf.Variable 'rn_block2/batch_normalization_1/moving_mean:0' shape=(200,) dtype=float32_ref>,\n",
       " <tf.Variable 'rn_block2/batch_normalization_1/moving_variance:0' shape=(200,) dtype=float32_ref>,\n",
       " <tf.Variable 'rn_block2/batch_normalization_2/moving_mean:0' shape=(200,) dtype=float32_ref>,\n",
       " <tf.Variable 'rn_block2/batch_normalization_2/moving_variance:0' shape=(200,) dtype=float32_ref>,\n",
       " <tf.Variable 'rn_block3/batch_normalization/moving_mean:0' shape=(200,) dtype=float32_ref>,\n",
       " <tf.Variable 'rn_block3/batch_normalization/moving_variance:0' shape=(200,) dtype=float32_ref>,\n",
       " <tf.Variable 'rn_block3/batch_normalization_1/moving_mean:0' shape=(200,) dtype=float32_ref>,\n",
       " <tf.Variable 'rn_block3/batch_normalization_1/moving_variance:0' shape=(200,) dtype=float32_ref>,\n",
       " <tf.Variable 'rn_block3/batch_normalization_2/moving_mean:0' shape=(200,) dtype=float32_ref>,\n",
       " <tf.Variable 'rn_block3/batch_normalization_2/moving_variance:0' shape=(200,) dtype=float32_ref>}"
      ]
     },
     "execution_count": 6,
     "metadata": {},
     "output_type": "execute_result"
    }
   ],
   "source": [
    "set(t.tf.get_collection(t.tf.GraphKeys.GLOBAL_VARIABLES))-set(t.tf.get_collection(t.tf.GraphKeys.TRAINABLE_VARIABLES))"
   ]
  },
  {
   "cell_type": "code",
   "execution_count": null,
   "metadata": {},
   "outputs": [],
   "source": []
  }
 ],
 "metadata": {
  "kernelspec": {
   "display_name": "Python 3",
   "language": "python",
   "name": "python3"
  },
  "language_info": {
   "codemirror_mode": {
    "name": "ipython",
    "version": 3
   },
   "file_extension": ".py",
   "mimetype": "text/x-python",
   "name": "python",
   "nbconvert_exporter": "python",
   "pygments_lexer": "ipython3",
   "version": "3.6.5"
  }
 },
 "nbformat": 4,
 "nbformat_minor": 2
}
